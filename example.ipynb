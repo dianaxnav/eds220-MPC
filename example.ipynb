{
  "cells": [
    {
      "cell_type": "code",
      "metadata": {},
      "source": [
        "import numpy as np\n"
      ],
      "id": "65cea736",
      "execution_count": null,
      "outputs": []
    }
  ],
  "metadata": {
    "kernelspec": {
      "name": "squirrelgurlz",
      "language": "python",
      "display_name": "Python (squirrelgurlz)"
    }
  },
  "nbformat": 4,
  "nbformat_minor": 5
}